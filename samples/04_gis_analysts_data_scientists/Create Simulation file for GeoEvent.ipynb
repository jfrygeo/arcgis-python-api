{
 "cells": [
  {
   "cell_type": "markdown",
   "metadata": {},
   "source": [
    "# Create Simulation file for GeoEvent\n",
    "Use this tool to generate a csv file that can be used to simulate locations using the GeoEvent Simulator.  \n",
    "\n",
    "This tool allows a user to create named routes and specify a distance in order to create points along the line. The points will be exported as a csv that can be imported into the GeoEvent Simulator. \n",
    "\n",
    "\n",
    "\n",
    "GeoEvent Simulator is a Windows application available with ArcGIS GeoEvent Server that can be used to send event data from a simulation text file or feature layer to a specified TCP socket. Event data sent from GeoEvent Simulator are received by a TCP/Text input in GeoEvent Server which hosts and monitors the TCP socket to which simulated data is being sent.\n",
    "\n",
    "For more information about the GeoEvent Simulator and how to use it to generate features, please visit the <a ref =\" http://enterprise.arcgis.com/en/geoevent/latest/administer/geoevent-simulator.htm\">GeoEvent Simulator link.\n"
   ]
  },
  {
   "cell_type": "code",
   "execution_count": 1,
   "metadata": {
    "collapsed": true
   },
   "outputs": [],
   "source": [
    "#import modules needed for analysis\n",
    "import arcgis\n",
    "from arcgis.gis import GIS\n",
    "from arcgis.geocoding import geocode\n",
    "from IPython.display import display\n",
    "import getpass"
   ]
  },
  {
   "cell_type": "markdown",
   "metadata": {},
   "source": [
    "### Input your Portal for ArcGIS connection\n",
    "Examples include:\n",
    "<li> https://wdcintelportal.esri.com/portal\n",
    "<li> https://wdcdefense.esri.com/portal\n",
    "<li> https://<server name>.domain.com/webadaptor\n",
    "<li> https://www.arcgis.com\n"
   ]
  },
  {
   "cell_type": "code",
   "execution_count": 2,
   "metadata": {
    "collapsed": true
   },
   "outputs": [],
   "source": [
    "Portal = \"https://www.arcgis.com\""
   ]
  },
  {
   "cell_type": "markdown",
   "metadata": {},
   "source": [
    "### Input Username for Portal"
   ]
  },
  {
   "cell_type": "code",
   "execution_count": 3,
   "metadata": {
    "collapsed": true
   },
   "outputs": [],
   "source": [
    "Username = 'johnfry10'"
   ]
  },
  {
   "cell_type": "markdown",
   "metadata": {},
   "source": [
    "### Input Password for Username"
   ]
  },
  {
   "cell_type": "code",
   "execution_count": 4,
   "metadata": {},
   "outputs": [
    {
     "name": "stdout",
     "output_type": "stream",
     "text": [
      "Enter Password: ········\n"
     ]
    }
   ],
   "source": [
    "password = getpass.getpass('Enter Password: ')"
   ]
  },
  {
   "cell_type": "markdown",
   "metadata": {},
   "source": [
    "### Create Web GIS Object and open webmap"
   ]
  },
  {
   "cell_type": "code",
   "execution_count": 5,
   "metadata": {
    "collapsed": true
   },
   "outputs": [],
   "source": [
    "# create a Web GIS object\n",
    "gis = GIS(Portal, Username, password)"
   ]
  },
  {
   "cell_type": "code",
   "execution_count": 6,
   "metadata": {},
   "outputs": [
    {
     "data": {
      "application/vnd.jupyter.widget-view+json": {
       "model_id": "7e5443f113e94eac8a47cd6b48d25bcb"
      }
     },
     "metadata": {},
     "output_type": "display_data"
    }
   ],
   "source": [
    "# create a map\n",
    "map1 = gis.map(\"Redlands, California\", zoomlevel=15)\n",
    "map1.basemap = \"topo\"\n",
    "map1"
   ]
  },
  {
   "cell_type": "markdown",
   "metadata": {},
   "source": [
    "### Create Feature Service for Editing\n"
   ]
  },
  {
   "cell_type": "code",
   "execution_count": 13,
   "metadata": {},
   "outputs": [],
   "source": [
    "#Attribute Information\n",
    "feature_dict = {\"attributes\": \n",
    "           {\"id\": \"\",\n",
    "            \"time\": \"\",\n",
    "            \"platorm\" : \"\"}}"
   ]
  },
  {
   "cell_type": "code",
   "execution_count": 18,
   "metadata": {},
   "outputs": [
    {
     "data": {
      "application/vnd.jupyter.widget-view+json": {
       "model_id": "7e5443f113e94eac8a47cd6b48d25bcb"
      }
     },
     "metadata": {},
     "output_type": "display_data"
    }
   ],
   "source": [
    "map1.draw(\"line\") #attributes=feature_dict)\n",
    "map1"
   ]
  },
  {
   "cell_type": "code",
   "execution_count": null,
   "metadata": {
    "collapsed": true
   },
   "outputs": [],
   "source": []
  },
  {
   "cell_type": "code",
   "execution_count": null,
   "metadata": {
    "collapsed": true
   },
   "outputs": [],
   "source": [
    "# search for service\n",
    "Events = gis.content.search(\"Libya\" or \"Events\", \"feature service\", max_items=6)\n",
    "for item in Events:\n",
    "    display(item)"
   ]
  },
  {
   "cell_type": "code",
   "execution_count": null,
   "metadata": {
    "collapsed": true
   },
   "outputs": [],
   "source": [
    "# Create variables for the layers\n",
    "AOI = Events[3]\n",
    "Intel = Events[4]"
   ]
  },
  {
   "cell_type": "code",
   "execution_count": null,
   "metadata": {
    "collapsed": true
   },
   "outputs": [],
   "source": [
    "# add to map\n",
    "map1.add_layer(AOI)"
   ]
  },
  {
   "cell_type": "code",
   "execution_count": null,
   "metadata": {
    "collapsed": true
   },
   "outputs": [],
   "source": [
    "# add to map\n",
    "map1.add_layer(Intel)"
   ]
  },
  {
   "cell_type": "markdown",
   "metadata": {},
   "source": [
    "### Run Summarize Within task\n",
    "The SummarizeWithin task helps you to summarize and find statistics on the point, line, or polygon features (or portions of these features) that are within the boundaries of polygons in another layer. For example:Given a layer of watershed boundaries and a layer of land-use boundaries by land-use type, calculate total acreage of land-use type for each watershed.Given a layer of parcels in a county and a layer of city boundaries, summarize the average value of vacant parcels within each city boundary.Given a layer of counties and a layer of roads, summarize the total mileage of roads by road type within each county."
   ]
  },
  {
   "cell_type": "code",
   "execution_count": null,
   "metadata": {
    "collapsed": true
   },
   "outputs": [],
   "source": [
    "# Call tools to run on data. There are multiple tools that can be run. \n",
    "arcgis.summarize_within(sum_within_layer=AOI,summary_layer=Intel,output_name=\"SummaryOfEventsInLibyaAOI\")"
   ]
  },
  {
   "cell_type": "code",
   "execution_count": null,
   "metadata": {
    "collapsed": true
   },
   "outputs": [],
   "source": [
    "# Search for created feature service to see if it has run successfully\n",
    "SummarizedEvents = gis.content.search(\"SummaryOfEventsInLibyaAOI\", \"Feature Layer\")[0]"
   ]
  },
  {
   "cell_type": "code",
   "execution_count": null,
   "metadata": {
    "collapsed": true
   },
   "outputs": [],
   "source": [
    "# load the data in a processed map\n",
    "map2 = gis.map()\n",
    "map2.basemap = \"topo\"\n",
    "map2.add_layer(SummarizedEvents)\n",
    "location = geocode(\"33RYL81170964\")[0]\n",
    "map2.extent = location['extent']"
   ]
  },
  {
   "cell_type": "code",
   "execution_count": null,
   "metadata": {
    "collapsed": true
   },
   "outputs": [],
   "source": [
    "# open map\n",
    "map2"
   ]
  },
  {
   "cell_type": "code",
   "execution_count": null,
   "metadata": {
    "collapsed": true
   },
   "outputs": [],
   "source": [
    "# zoom to map\n",
    "map2.zoom = 5"
   ]
  },
  {
   "cell_type": "markdown",
   "metadata": {},
   "source": [
    "### Delete created feature service\n",
    "If you need to reset your demo and delete the feature serivce."
   ]
  },
  {
   "cell_type": "code",
   "execution_count": null,
   "metadata": {
    "collapsed": true
   },
   "outputs": [],
   "source": [
    "# Input the variable you would want to delete\n",
    "arcgis.gis.Item.delete(SummarizedEvents)"
   ]
  }
 ],
 "metadata": {
  "kernelspec": {
   "display_name": "Python 3",
   "language": "python",
   "name": "python3"
  },
  "language_info": {
   "codemirror_mode": {
    "name": "ipython",
    "version": 3
   },
   "file_extension": ".py",
   "mimetype": "text/x-python",
   "name": "python",
   "nbconvert_exporter": "python",
   "pygments_lexer": "ipython3",
   "version": "3.6.2"
  }
 },
 "nbformat": 4,
 "nbformat_minor": 2
}
