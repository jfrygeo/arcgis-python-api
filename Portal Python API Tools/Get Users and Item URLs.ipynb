{
 "cells": [
  {
   "cell_type": "markdown",
   "metadata": {},
   "source": [
    "This tool looks at a portal's items and gets descriptions of the items."
   ]
  },
  {
   "cell_type": "code",
   "execution_count": 1,
   "metadata": {},
   "outputs": [],
   "source": [
    "from IPython.display import display\n",
    "from arcgis.gis import GIS\n",
    "import os\n",
    "import csv"
   ]
  },
  {
   "cell_type": "markdown",
   "metadata": {},
   "source": [
    "In the cell below, you will connect to your Portal for ArcGIS. \n",
    "\n",
    "<li> portal url = the URL of the Portal \"https://servername.domain.com/webadaptor\"\n",
    "<li> username = an admin's user name\n",
    "<li> password = the password for that user"
   ]
  },
  {
   "cell_type": "code",
   "execution_count": null,
   "metadata": {},
   "outputs": [],
   "source": []
  },
  {
   "cell_type": "code",
   "execution_count": null,
   "metadata": {
    "collapsed": true
   },
   "outputs": [],
   "source": [
    "gis = GIS(\"portal url\", \"username\", \"password\", verify_cert=True)"
   ]
  },
  {
   "cell_type": "markdown",
   "metadata": {},
   "source": [
    "Gets usernames."
   ]
  },
  {
   "cell_type": "code",
   "execution_count": null,
   "metadata": {},
   "outputs": [],
   "source": [
    "gisusers = gis.users.search()\n",
    "gisusers"
   ]
  },
  {
   "cell_type": "markdown",
   "metadata": {},
   "source": [
    "If you do not want users to have their content listed, then you can manual write their username in the list below."
   ]
  },
  {
   "cell_type": "code",
   "execution_count": null,
   "metadata": {
    "collapsed": true
   },
   "outputs": [],
   "source": [
    "ignore_list = ['system_publisher', 'esri_nav', 'esri_livingatlas', \n",
    "               'esri_boundaries', 'esri_demographics','admin']"
   ]
  },
  {
   "cell_type": "code",
   "execution_count": null,
   "metadata": {},
   "outputs": [],
   "source": [
    "source_items_by_id = {}\n",
    "for user in gisusers:\n",
    "    if not user.username in ignore_list:  # ignore any 'system' Portal users\n",
    "        print (\"===========================User================================\")\n",
    "        print(\"Collecting item ids for {}...\".format(user.username))\n",
    "        user_content = user.items()\n",
    "        # Copy item ids from root folder first\n",
    "        for item in user_content:\n",
    "            source_items_by_id[item.itemid] = item\n",
    "            print(item.title)\n",
    "            print(item.url)\n",
    "            print(item.type)\n",
    "            print(\"-------------------------Item-------------------------------\")\n",
    "            \n",
    "        # Copy item ids from folders next\n",
    "            folders = user.folders\n",
    "            for folder in folders:\n",
    "                folder_items = user.items(folder=folder['title'])\n",
    "                folder_title = folder['title']\n",
    "                print (\"Folder = \"+ folder_title)\n",
    "                for item in folder_items:\n",
    "                    source_items_by_id[item.itemid] = item\n",
    "                    print(item.title)\n",
    "                    print(item.id)\n",
    "                    print(item.url)\n",
    "                    print(\"-------------------------New Item-------------------------------\")"
   ]
  }
 ],
 "metadata": {
  "kernelspec": {
   "display_name": "Python 3",
   "language": "python",
   "name": "python3"
  },
  "language_info": {
   "codemirror_mode": {
    "name": "ipython",
    "version": 3
   },
   "file_extension": ".py",
   "mimetype": "text/x-python",
   "name": "python",
   "nbconvert_exporter": "python",
   "pygments_lexer": "ipython3",
   "version": "3.6.6"
  }
 },
 "nbformat": 4,
 "nbformat_minor": 2
}
