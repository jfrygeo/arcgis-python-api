{
 "cells": [
  {
   "cell_type": "markdown",
   "metadata": {},
   "source": [
    "# Deploy Sensor Collector Application\n",
    "This tool publishes some service from ArcMap and deploys it to AGOL or Portal for ArcGIS"
   ]
  },
  {
   "cell_type": "markdown",
   "metadata": {},
   "source": [
    "Below, you will specficy the Portal instance, or, ArcGIS Onlne. "
   ]
  },
  {
   "cell_type": "code",
   "execution_count": 1,
   "metadata": {
    "collapsed": true
   },
   "outputs": [],
   "source": [
    "from IPython.display import display\n",
    "from arcgis.gis import GIS\n",
    "import os\n",
    "\n",
    "username = \"jfwdcdefense\"\n",
    "password = \"Yorks10esri\"\n",
    "portalURL = \"https://wdcdefense.esri.com/portal\"\n",
    "\n",
    "gis = GIS(portalURL,username,password)"
   ]
  },
  {
   "cell_type": "markdown",
   "metadata": {},
   "source": [
    "Here you will sepcify the location of the sd files you will publish. This script assumes you have defined all that you need in the feature class, including symbology, domains, schema, and subtypes.The script also assumes you have saved an SD file in ArcMap. "
   ]
  },
  {
   "cell_type": "code",
   "execution_count": 24,
   "metadata": {
    "collapsed": false
   },
   "outputs": [
    {
     "ename": "SyntaxError",
     "evalue": "invalid syntax (<ipython-input-24-f77588810fe5>, line 1)",
     "output_type": "error",
     "traceback": [
      "\u001b[1;36m  File \u001b[1;32m\"<ipython-input-24-f77588810fe5>\"\u001b[1;36m, line \u001b[1;32m1\u001b[0m\n\u001b[1;33m    search_result = gis.content.search(query= item.url:is not None, item_type=(\"\"),sort_field=\"Title\" ,sort_order=\"asc\",max_items = 40, outside_org=False)\u001b[0m\n\u001b[1;37m                                                      ^\u001b[0m\n\u001b[1;31mSyntaxError\u001b[0m\u001b[1;31m:\u001b[0m invalid syntax\n"
     ]
    }
   ],
   "source": [
    "# path relative to this notebook\n",
    "data_dir = \"data/\"\n",
    "\n",
    "#Get list of all files\n",
    "file_list = os.listdir(data_dir)\n",
    "\n",
    "#Filter and get only .sd files\n",
    "sd_file_list = [x for x in file_list if x.endswith(\".sd\")]\n",
    "print(\"Number of .sd files found: \" + str(len(sd_file_list)))"
   ]
  },
  {
   "cell_type": "markdown",
   "metadata": {},
   "source": [
    "Here you will publish the sd files as services."
   ]
  },
  {
   "cell_type": "code",
   "execution_count": null,
   "metadata": {
    "collapsed": true
   },
   "outputs": [],
   "source": [
    "# Loop through each file and publish it as a service\n",
    "for current_sd_file in sd_file_list:\n",
    "    item = gis.content.add({}, data_dir + current_sd_file)   # .sd file is uploaded and a .sd file item is created\n",
    "    published_item = item.publish()                          # .sd file item is published and a web layer item is created\n",
    "    display(published_item)"
   ]
  },
  {
   "cell_type": "markdown",
   "metadata": {},
   "source": [
    "Below you will specify any shapefiles files that will need to be published to your portal. The script assumes that you have the shapefiles in a \".zip\" file. "
   ]
  },
  {
   "cell_type": "code",
   "execution_count": 1,
   "metadata": {
    "collapsed": false
   },
   "outputs": [
    {
     "ename": "NameError",
     "evalue": "name 'os' is not defined",
     "output_type": "error",
     "traceback": [
      "\u001b[1;31m---------------------------------------------------------------------------\u001b[0m",
      "\u001b[1;31mNameError\u001b[0m                                 Traceback (most recent call last)",
      "\u001b[1;32m<ipython-input-1-be47e840ba3a>\u001b[0m in \u001b[0;36m<module>\u001b[1;34m()\u001b[0m\n\u001b[0;32m      2\u001b[0m \u001b[1;33m\u001b[0m\u001b[0m\n\u001b[0;32m      3\u001b[0m \u001b[1;31m#Get list of all files\u001b[0m\u001b[1;33m\u001b[0m\u001b[1;33m\u001b[0m\u001b[0m\n\u001b[1;32m----> 4\u001b[1;33m \u001b[0mshapefile_list\u001b[0m \u001b[1;33m=\u001b[0m \u001b[0mos\u001b[0m\u001b[1;33m.\u001b[0m\u001b[0mlistdir\u001b[0m\u001b[1;33m(\u001b[0m\u001b[0mdata_dir\u001b[0m\u001b[1;33m)\u001b[0m\u001b[1;33m\u001b[0m\u001b[0m\n\u001b[0m\u001b[0;32m      5\u001b[0m \u001b[1;33m\u001b[0m\u001b[0m\n\u001b[0;32m      6\u001b[0m \u001b[1;31m#Filter and get only .sd files\u001b[0m\u001b[1;33m\u001b[0m\u001b[1;33m\u001b[0m\u001b[0m\n",
      "\u001b[1;31mNameError\u001b[0m: name 'os' is not defined"
     ]
    }
   ],
   "source": [
    "data_shp = \"data/\"\n",
    "\n",
    "#Get list of all files\n",
    "shapefile_list = os.listdir(data_shp)\n",
    "\n",
    "#Filter and get only .sd files\n",
    "shapefile_file_list = [x for x in shapefile_list if x.endswith(\".zip\")]\n",
    "print(\"Number of .zip files found: \" + str(len(shapefile_file_list)))\n",
    "\n",
    "#data = \"data/Dataset.zip\"\n",
    "shpfile = gis.content.add({}, data)\n",
    "published_service = shpfile.publish()\n",
    "\n",
    "# Loop through each file and publish it as a service\n",
    "for current_shapefile in shapefile_file_list:\n",
    "    item = gis.content.add({}, data_dir + current_shapefile)   # .zip file is uploaded and a shapefile file item is created\n",
    "    published_item = item.publish()                          # .zip file item is published and a web layer item is created\n",
    "    display(published_item)\n"
   ]
  },
  {
   "cell_type": "code",
   "execution_count": null,
   "metadata": {
    "collapsed": true
   },
   "outputs": [],
   "source": []
  }
 ],
 "metadata": {
  "kernelspec": {
   "display_name": "Python 3",
   "language": "python",
   "name": "python3"
  },
  "language_info": {
   "codemirror_mode": {
    "name": "ipython",
    "version": 3
   },
   "file_extension": ".py",
   "mimetype": "text/x-python",
   "name": "python",
   "nbconvert_exporter": "python",
   "pygments_lexer": "ipython3",
   "version": "3.5.3"
  }
 },
 "nbformat": 4,
 "nbformat_minor": 2
}
