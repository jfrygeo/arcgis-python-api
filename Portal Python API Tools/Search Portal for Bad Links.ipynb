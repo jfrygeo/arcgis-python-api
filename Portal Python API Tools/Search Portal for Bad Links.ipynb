{
 "cells": [
  {
   "cell_type": "markdown",
   "metadata": {},
   "source": [
    "This tool looks at a portal's items and gets descriptions of the items."
   ]
  },
  {
   "cell_type": "code",
   "execution_count": null,
   "metadata": {},
   "outputs": [],
   "source": [
    "from IPython.display import display\n",
    "from arcgis.gis import GIS\n",
    "import requests\n",
    "from getpass import getpass\n",
    "from datetime import datetime"
   ]
  },
  {
   "cell_type": "markdown",
   "metadata": {},
   "source": [
    "In the cell below, you will connect to your Portal for ArcGIS. \n",
    "\n",
    "<li> portal = the URL of the Portal \"https://servername.domain.com/webadaptor\"\n",
    "<li> username = an admin's user name\n",
    "<li> password = the password for that user"
   ]
  },
  {
   "cell_type": "code",
   "execution_count": null,
   "metadata": {},
   "outputs": [],
   "source": [
    "# ie. https://PortalURL.Domain.Com/WebAdaptor\n",
    "portal = \"https://Portal.Domain.Com/portal\""
   ]
  },
  {
   "cell_type": "code",
   "execution_count": null,
   "metadata": {},
   "outputs": [],
   "source": [
    "username = \"InputUsername\""
   ]
  },
  {
   "cell_type": "code",
   "execution_count": null,
   "metadata": {},
   "outputs": [],
   "source": [
    "password = getpass()\n",
    "gis = GIS(portal, username, password, verify_cert=True)"
   ]
  },
  {
   "cell_type": "markdown",
   "metadata": {},
   "source": [
    "Gets usernames."
   ]
  },
  {
   "cell_type": "code",
   "execution_count": null,
   "metadata": {},
   "outputs": [],
   "source": [
    "gisusers = gis.users.search()\n",
    "#gisusers"
   ]
  },
  {
   "cell_type": "markdown",
   "metadata": {},
   "source": [
    "If you do not want users to have their content listed, then you can manual write their username in the list below."
   ]
  },
  {
   "cell_type": "code",
   "execution_count": null,
   "metadata": {},
   "outputs": [],
   "source": [
    "ignore_list = ['system_publisher', 'esri_nav', 'esri_livingatlas', \n",
    "               'esri_boundaries', 'esri_demographics','admin']\n",
    "\n",
    "#Temporary User List is a list of members that the portal will search\n",
    "temp_user_list = ['username']"
   ]
  },
  {
   "cell_type": "markdown",
   "metadata": {},
   "source": [
    "In the cell below, items in the featured gallery will listed and then items in the web maps will also be listed. \n"
   ]
  },
  {
   "cell_type": "code",
   "execution_count": null,
   "metadata": {},
   "outputs": [],
   "source": [
    "source_items_by_id = {}\n",
    "contains_list = 'Could not access any server machines. Please contact your system administrator.'\n",
    "webappbuilder = ':3344/webappbuilder'\n",
    "package = 'package'\n",
    "data = 'data'\n",
    "\n",
    "\n",
    "for user in gisusers:\n",
    "    # time for eaxh user iteration\n",
    "    startTime = datetime.now()\n",
    "    \n",
    "    if not user.username in ignore_list:  # ignore any 'system' Portal users\n",
    "    \n",
    "    # If you want to use a specific user name, uncomment line below and comment above line\n",
    "    #if user.username in temp_user_list:  # ignore any 'system' Portal users\n",
    "        print (\"===========================User================================\")\n",
    "        print(\"Collecting items for {}...\".format(user.username))\n",
    "        user_content = user.items(max_items=100000)\n",
    "        \n",
    "        # item ids from root folder first\n",
    "        for item in user_content:\n",
    "            #Do not try and ping None item.URL\n",
    "            \n",
    "            if (item.url is not None and webappbuilder not in item.url and package not in item.url and data not in item.url):\n",
    "            #if (item.url is not None):\n",
    "                try:\n",
    "                    r = requests.get(item.url)\n",
    "                    if contains_list in r.text:\n",
    "                        #r = requests.get(item.url)\n",
    "                        print(\"User = \" +user.username)\n",
    "                        print(\"Folder = root\")\n",
    "                        print(\"Item = \"+item.title)\n",
    "                        print(\"Type = \" +item.type)\n",
    "                        print(\"URL = \" +item.url)\n",
    "                        print (\"Item URL = \" + portal + \"/home/item.html?id=\" + item.id)\n",
    "                        print (\"Server up, Service Not\")\n",
    "                        print(\"-------------------------Item-------------------------------\")\n",
    "                        continue\n",
    "                                    #check for URLs that do not exist    \n",
    "                except requests.exceptions.RequestException as e:  \n",
    "                    print (e)\n",
    "                    if e:\n",
    "                        print(\"User = \" +user.username)\n",
    "                        print(\"Folder = root\")\n",
    "                        print(\"Item = \"+item.title)\n",
    "                        print(\"Type = \" +item.type)\n",
    "                        print(\"URL = \" +item.url)\n",
    "                        print (\"Item URL = \" + portal + \"/home/item.html?id=\" + item.id)\n",
    "                        print ('This is a bad url')\n",
    "                        print(\"-------------------------Item-------------------------------\")\n",
    "                        #continue\n",
    "                        pass\n",
    "                    \n",
    "                else:\n",
    "                    #print (\"Root\")\n",
    "                    pass\n",
    "\n",
    "                        \n",
    "\n",
    "                        \n",
    "                #item ids from folders next\n",
    "        folders = user.folders\n",
    "        for folder in folders:\n",
    "            folder_items = user.items(folder=folder['title'], max_items=10000)\n",
    "            folder_title = folder['title']\n",
    "            #if (item.url is not None and webappbuilder not in item.url and package not in item.url and data not in item.url):\n",
    "\n",
    "            for item in folder_items:\n",
    "                #source_items_by_id[item.itemid] = item\n",
    "                if (item.url is not None and webappbuilder not in item.url and package not in item.url and data not in item.url):\n",
    "                    try:\n",
    "                        r = requests.get(item.url)\n",
    "                        if contains_list in r.text:\n",
    "                            #r = requests.get(item.url)\n",
    "                            print(\"User = \" +user.username)\n",
    "                            print(\"Folder = \"+folder_title)\n",
    "                            print(\"Item = \"+item.title)\n",
    "                            print(\"Type = \" +item.type)\n",
    "                            print(\"URL = \" +item.url)\n",
    "                            print (\"Item URL = \" + portal + \"/home/item.html?id=\" + item.id)\n",
    "                            print ((\"Status Code = \") +str(r.status_code))\n",
    "                            print (\"Server up, Service Not\")\n",
    "                            print(\"-------------------------Item-------------------------------\")\n",
    "                            continue\n",
    "\n",
    "                    except requests.exceptions.RequestException as e: \n",
    "                        print (e)\n",
    "                        if e:\n",
    "                            print(\"User = \" +user.username)\n",
    "                            print(\"Folder = \"+folder_title)\n",
    "                            print(\"Item = \"+item.title)\n",
    "                            print(\"Type = \" +item.type)\n",
    "                            print(\"URL = \" +item.url)\n",
    "                            print (\"Item URL = \" + portal + \"/home/item.html?id=\" + item.id)\n",
    "                            print (\"This is a bad url\")\n",
    "                            print(\"-------------------------Item-------------------------------\")\n",
    "                            #continue  else:\n",
    "                            #print(\"in folder \" +folder_title)\n",
    "                            pass\n",
    "\n",
    "                    else:\n",
    "                        #print (\"in folder \" +folder_title)\n",
    "                        #print (\"Folder / Item = \"+folder_title + item.title)\n",
    "                        continue\n",
    "        \n",
    "        print (\"Completed bad item search for {}...\".format(user.username))\n",
    "        print (print(\"Time taken: \" + str(datetime.now() - startTime)))\n",
    "        print (\"===========================User================================\")"
   ]
  },
  {
   "cell_type": "code",
   "execution_count": null,
   "metadata": {},
   "outputs": [],
   "source": []
  }
 ],
 "metadata": {
  "kernelspec": {
   "display_name": "Python 3",
   "language": "python",
   "name": "python3"
  },
  "language_info": {
   "codemirror_mode": {
    "name": "ipython",
    "version": 3
   },
   "file_extension": ".py",
   "mimetype": "text/x-python",
   "name": "python",
   "nbconvert_exporter": "python",
   "pygments_lexer": "ipython3",
   "version": "3.6.6"
  }
 },
 "nbformat": 4,
 "nbformat_minor": 2
}
