{
 "cells": [
  {
   "cell_type": "markdown",
   "metadata": {},
   "source": [
    "# Manually Create New Users for Your Portal "
   ]
  },
  {
   "cell_type": "markdown",
   "metadata": {},
   "source": [
    "This example creates new users for your portal. For information about the ArcGIS Python API, please visit http://esri.github.io/arcgis-python-api/apidoc/html/\n",
    "\n",
    "<li>To quickly run a cell, press \"SHIFT\" + \"ENTER\"\n",
    "<li>To get intellisense, press \"TAB\" + \"SHIFT\""
   ]
  },
  {
   "cell_type": "code",
   "execution_count": null,
   "metadata": {
    "collapsed": true
   },
   "outputs": [],
   "source": [
    "from arcgis.gis import GIS"
   ]
  },
  {
   "cell_type": "markdown",
   "metadata": {},
   "source": [
    "In the cell below, you will connect to your Portal for ArcGIS. \n",
    "\n",
    "<li> portal url = the URL of the Portal \"https://servername.domain.com/webadaptor\"\n",
    "<li> username = an admin's user name\n",
    "<li> password = the password for that user"
   ]
  },
  {
   "cell_type": "code",
   "execution_count": null,
   "metadata": {
    "collapsed": true
   },
   "outputs": [],
   "source": [
    "gis = GIS(\"portal url\", \"username\", \"password\", verify_cert=True)"
   ]
  },
  {
   "cell_type": "markdown",
   "metadata": {},
   "source": [
    "Here you will create a user for your portal.  Please fill out the information below marked in RED. Do not delete the quotes."
   ]
  },
  {
   "cell_type": "code",
   "execution_count": null,
   "metadata": {
    "collapsed": true
   },
   "outputs": [],
   "source": [
    "create_user1 = gis.users.create(username = \"test347\",\n",
    "                               password = \"password123\",\n",
    "                               firstname = \"test\",\n",
    "                               lastname = \"test\",\n",
    "                               email = \"test@esri.com\",\n",
    "                               role = \"org_publisher\",\n",
    "                               level = \"2\")\n",
    "create_user1"
   ]
  }
 ],
 "metadata": {
  "celltoolbar": "Raw Cell Format",
  "kernelspec": {
   "display_name": "Python 3",
   "language": "python",
   "name": "python3"
  },
  "language_info": {
   "codemirror_mode": {
    "name": "ipython",
    "version": 3
   },
   "file_extension": ".py",
   "mimetype": "text/x-python",
   "name": "python",
   "nbconvert_exporter": "python",
   "pygments_lexer": "ipython3",
   "version": "3.6.1"
  }
 },
 "nbformat": 4,
 "nbformat_minor": 2
}
