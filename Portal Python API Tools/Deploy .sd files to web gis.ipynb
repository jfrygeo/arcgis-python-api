{
 "cells": [
  {
   "cell_type": "markdown",
   "metadata": {},
   "source": [
    "# Deploy .sd files to WebGIS\n",
    "This tool publishes some service from ArcMap and deploys it to AGOL or Portal for ArcGIS"
   ]
  },
  {
   "cell_type": "markdown",
   "metadata": {},
   "source": [
    "In the cell below, you will import modules needed to run the scripts"
   ]
  },
  {
   "cell_type": "code",
   "execution_count": null,
   "metadata": {
    "collapsed": true
   },
   "outputs": [],
   "source": [
    "from IPython.display import display\n",
    "from arcgis.gis import GIS\n",
    "import os"
   ]
  },
  {
   "cell_type": "markdown",
   "metadata": {},
   "source": [
    "In the cell below, you will connect to your Portal for ArcGIS. \n",
    "\n",
    "<li> portal url = the URL of the Portal \"https://servername.domain.com/webadaptor\"\n",
    "<li> username = an admin's user name\n",
    "<li> password = the password for that user"
   ]
  },
  {
   "cell_type": "code",
   "execution_count": null,
   "metadata": {},
   "outputs": [],
   "source": [
    "gis = GIS(\"portal url\", \"username\", \"password\", verify_cert=True)"
   ]
  },
  {
   "cell_type": "markdown",
   "metadata": {},
   "source": [
    "Here you will sepcify the location of the sd files you will publish. This script assumes you have defined all that you need in the feature class, including symbology, domains, schema, and subtypes.The script also assumes you have saved an SD file in ArcMap. "
   ]
  },
  {
   "cell_type": "code",
   "execution_count": null,
   "metadata": {},
   "outputs": [],
   "source": [
    "# path relative to this notebook\n",
    "data_dir = \"data/\"\n",
    "\n",
    "#Get list of all files\n",
    "file_list = os.listdir(data_dir)\n",
    "\n",
    "#Filter and get only .sd files\n",
    "sd_file_list = [x for x in file_list if x.endswith(\".sd\")]\n",
    "print(\"Number of .sd files found: \" + str(len(sd_file_list)))"
   ]
  },
  {
   "cell_type": "markdown",
   "metadata": {},
   "source": [
    "Here you will publish sd files as services."
   ]
  },
  {
   "cell_type": "code",
   "execution_count": null,
   "metadata": {
    "collapsed": true
   },
   "outputs": [],
   "source": [
    "# Loop through each file and publish it as a service\n",
    "for current_sd_file in sd_file_list:\n",
    "    item = gis.content.add({}, data_dir + current_sd_file)   # .sd file is uploaded and a .sd file item is created\n",
    "    published_item = item.publish()                          # .sd file item is published and a web layer item is created\n",
    "    display(published_item)"
   ]
  },
  {
   "cell_type": "markdown",
   "metadata": {},
   "source": [
    "Below you will specify any shapefiles files that will need to be published to your portal. The script assumes that you have the shapefiles in a \".zip\" file. "
   ]
  },
  {
   "cell_type": "code",
   "execution_count": null,
   "metadata": {},
   "outputs": [],
   "source": [
    "data_shp = \"data/\"\n",
    "\n",
    "#Get list of all files\n",
    "shapefile_list = os.listdir(data_shp)\n",
    "\n",
    "#Filter and get only .sd files\n",
    "shapefile_file_list = [x for x in shapefile_list if x.endswith(\".zip\")]\n",
    "print(\"Number of .zip files found: \" + str(len(shapefile_file_list)))\n",
    "\n",
    "#data = \"data/Dataset.zip\"\n",
    "shpfile = gis.content.add({}, data)\n",
    "published_service = shpfile.publish()\n",
    "\n",
    "# Loop through each file and publish it as a service\n",
    "for current_shapefile in shapefile_file_list:\n",
    "    item = gis.content.add({}, data_dir + current_shapefile)   # .zip file is uploaded and a shapefile file item is created\n",
    "    published_item = item.publish()                          # .zip file item is published and a web layer item is created\n",
    "    display(published_item)\n"
   ]
  },
  {
   "cell_type": "code",
   "execution_count": null,
   "metadata": {
    "collapsed": true
   },
   "outputs": [],
   "source": []
  }
 ],
 "metadata": {
  "kernelspec": {
   "display_name": "Python 3",
   "language": "python",
   "name": "python3"
  },
  "language_info": {
   "codemirror_mode": {
    "name": "ipython",
    "version": 3
   },
   "file_extension": ".py",
   "mimetype": "text/x-python",
   "name": "python",
   "nbconvert_exporter": "python",
   "pygments_lexer": "ipython3",
   "version": "3.6.1"
  }
 },
 "nbformat": 4,
 "nbformat_minor": 2
}
