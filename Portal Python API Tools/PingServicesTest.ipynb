{
 "cells": [
  {
   "cell_type": "code",
   "execution_count": 5,
   "metadata": {},
   "outputs": [],
   "source": [
    "import requests\n",
    "from requests.adapters import HTTPAdapter\n",
    "from requests.packages.urllib3.util.retry import Retry\n",
    "from datetime import datetime\n",
    "\n"
   ]
  },
  {
   "cell_type": "code",
   "execution_count": 6,
   "metadata": {},
   "outputs": [],
   "source": [
    "urlserver = 'https://wdcdefense.esri.com/server/rest/services/AirC2/MapServer'\n",
    "urlw = 'https://wdcdefense.esri.com/server/rest/services/AirC2/AirC2_Civilian_Air_View/FeatureServer'\n",
    "#http://<host>:7443/arcgis/admin/services/SampleWorldCities.MapServer/status?f=pjson\n",
    "#https://wdcdefense.esri.com/server/rest/services/AirC2/AirC2_Civilian_Air_View/MapServer'\n",
    "#url = 'https://testestefsdgdfjghnfedk.esri.com'\n",
    "url_array = ['https://wdcdefense.esri.com:3344/webappbuilder','https://wdcdefense.esri.com:3344/package','https://testestefsdgdfjghnfedk.esri.com', 'https://www.esri.com', 'https://wdcdefense.esri.com/server/rest/services/AirC2/MapServer']\n",
    "#url_array = ['https://wdcdefense.esri.com:3344/package']\n",
    "\n"
   ]
  },
  {
   "cell_type": "code",
   "execution_count": 9,
   "metadata": {},
   "outputs": [
    {
     "name": "stdout",
     "output_type": "stream",
     "text": [
      "=============================\n",
      "time taken: 0:00:00\n",
      "=============================\n",
      "time taken: 0:00:00\n",
      "=============================\n",
      "HTTPSConnectionPool(host='testestefsdgdfjghnfedk.esri.com', port=443): Max retries exceeded with url: / (Caused by NewConnectionError('<urllib3.connection.VerifiedHTTPSConnection object at 0x000001E31985DCC0>: Failed to establish a new connection: [Errno 11001] getaddrinfo failed',))\n",
      "This is a bad url\n",
      "https://testestefsdgdfjghnfedk.esri.com\n",
      "time taken: 0:00:00.003009\n",
      "=============================\n",
      "200\n",
      "whoa\n",
      "=============================\n",
      "200\n",
      "Server up, Service Not\n",
      "https://wdcdefense.esri.com/server/rest/services/AirC2/MapServer\n",
      "whoa\n"
     ]
    }
   ],
   "source": [
    "contains_list = 'Could not access any server machines. Please contact your system administrator.'\n",
    "webappbuilder = ':3344/webappbuilder'\n",
    "package = 'package'\n",
    "data = 'data'\n",
    "\n",
    "for url in url_array:\n",
    "    startTime = datetime.now()\n",
    "    print ('=============================')\n",
    "    if (url is not None and webappbuilder not in url and package not in url and\n",
    "        data not in url):\n",
    "        \n",
    "        try:\n",
    "            r = requests.get(url)\n",
    "            print (r.status_code)\n",
    "            if contains_list in r.text:\n",
    "                print (\"Server up, Service Not\")\n",
    "                print (url)\n",
    "                pass\n",
    "        except requests.exceptions.RequestException as e:  # This is the correct syntax\n",
    "            print (e)\n",
    "            if e:\n",
    "                print ('This is a bad url')\n",
    "                print (url)\n",
    "        else: \n",
    "            print (\"whoa\")\n",
    "            continue\n",
    "    print(\"time taken: \" + str(datetime.now() - startTime))\n",
    "                "
   ]
  },
  {
   "cell_type": "code",
   "execution_count": 18,
   "metadata": {},
   "outputs": [
    {
     "ename": "NameError",
     "evalue": "name 'item' is not defined",
     "output_type": "error",
     "traceback": [
      "\u001b[1;31m---------------------------------------------------------------------------\u001b[0m",
      "\u001b[1;31mNameError\u001b[0m                                 Traceback (most recent call last)",
      "\u001b[1;32m<ipython-input-18-93aa99890b5f>\u001b[0m in \u001b[0;36m<module>\u001b[1;34m()\u001b[0m\n\u001b[0;32m     38\u001b[0m                         \u001b[1;32mreturn\u001b[0m\u001b[1;33m\u001b[0m\u001b[0m\n\u001b[0;32m     39\u001b[0m \u001b[1;33m\u001b[0m\u001b[0m\n\u001b[1;32m---> 40\u001b[1;33m \u001b[0mcheckItems\u001b[0m\u001b[1;33m(\u001b[0m\u001b[1;33m)\u001b[0m\u001b[1;33m\u001b[0m\u001b[0m\n\u001b[0m",
      "\u001b[1;32m<ipython-input-18-93aa99890b5f>\u001b[0m in \u001b[0;36mcheckItems\u001b[1;34m()\u001b[0m\n\u001b[0;32m      1\u001b[0m \u001b[1;32mdef\u001b[0m \u001b[0mcheckItems\u001b[0m\u001b[1;33m(\u001b[0m\u001b[1;33m)\u001b[0m\u001b[1;33m:\u001b[0m\u001b[1;33m\u001b[0m\u001b[0m\n\u001b[1;32m----> 2\u001b[1;33m     \u001b[1;32mif\u001b[0m \u001b[1;33m(\u001b[0m\u001b[0mitem\u001b[0m\u001b[1;33m.\u001b[0m\u001b[0murl\u001b[0m \u001b[1;32mis\u001b[0m \u001b[1;32mnot\u001b[0m \u001b[1;32mNone\u001b[0m \u001b[1;32mand\u001b[0m \u001b[0mwebappbuilder\u001b[0m \u001b[1;32mnot\u001b[0m \u001b[1;32min\u001b[0m \u001b[0mitem\u001b[0m\u001b[1;33m.\u001b[0m\u001b[0murl\u001b[0m \u001b[1;32mand\u001b[0m \u001b[0mpackage\u001b[0m \u001b[1;32mnot\u001b[0m \u001b[1;32min\u001b[0m \u001b[0mitem\u001b[0m\u001b[1;33m.\u001b[0m\u001b[0murl\u001b[0m \u001b[1;32mand\u001b[0m \u001b[0mdata\u001b[0m \u001b[1;32mnot\u001b[0m \u001b[1;32min\u001b[0m \u001b[0mitem\u001b[0m\u001b[1;33m.\u001b[0m\u001b[0murl\u001b[0m\u001b[1;33m)\u001b[0m\u001b[1;33m:\u001b[0m\u001b[1;33m\u001b[0m\u001b[0m\n\u001b[0m\u001b[0;32m      3\u001b[0m                     \u001b[1;32mtry\u001b[0m\u001b[1;33m:\u001b[0m\u001b[1;33m\u001b[0m\u001b[0m\n\u001b[0;32m      4\u001b[0m                         \u001b[1;32mif\u001b[0m \u001b[0mcontains_list\u001b[0m \u001b[1;32min\u001b[0m \u001b[0mr\u001b[0m\u001b[1;33m.\u001b[0m\u001b[0mtext\u001b[0m\u001b[1;33m:\u001b[0m\u001b[1;33m\u001b[0m\u001b[0m\n\u001b[0;32m      5\u001b[0m                             \u001b[0mr\u001b[0m \u001b[1;33m=\u001b[0m \u001b[0mrequests\u001b[0m\u001b[1;33m.\u001b[0m\u001b[0mget\u001b[0m\u001b[1;33m(\u001b[0m\u001b[0mitem\u001b[0m\u001b[1;33m.\u001b[0m\u001b[0murl\u001b[0m\u001b[1;33m)\u001b[0m\u001b[1;33m\u001b[0m\u001b[0m\n",
      "\u001b[1;31mNameError\u001b[0m: name 'item' is not defined"
     ]
    }
   ],
   "source": [
    "def checkItems():\n",
    "    if (item.url is not None and webappbuilder not in item.url and package not in item.url and data not in item.url):\n",
    "                    try:\n",
    "                        if contains_list in r.text:\n",
    "                            r = requests.get(item.url)\n",
    "                            print(\"User = \" +user.username)\n",
    "                            print(\"Folder = \"+folder_title)\n",
    "                            print(\"Item = \"+item.title)\n",
    "                            print(\"Type = \" +item.type)\n",
    "                            print(\"URL = \" +item.url)\n",
    "                            print (\"Item URL = \" + \"https://wdcdefense.esri.com/portal/home/item.html?id=\" + item.id)\n",
    "                            print ((\"Status Code = \") +str(r.status_code))\n",
    "                            print (\"Server up, Service Not\")\n",
    "                            print(\"-------------------------Item-------------------------------\")\n",
    "                            #continue\n",
    "                            #continue\n",
    "                            \n",
    "                    except requests.exceptions.RequestException as e: \n",
    "                        print (e)\n",
    "                        if e:\n",
    "                            print(\"User = \" +user.username)\n",
    "                            print(\"Folder = \"+folder_title)\n",
    "                            print(\"Item = \"+item.title)\n",
    "                            print(\"Type = \" +item.type)\n",
    "                            print(\"URL = \" +item.url)\n",
    "                            print (\"Item URL = \" + \"https://wdcdefense.esri.com/portal/home/item.html?id=\" + item.id)\n",
    "                            print ((\"Status Code = \") +str(r.status_code))\n",
    "                            print ('This is a bad url')\n",
    "                            print(\"-------------------------Item-------------------------------\")\n",
    "                            #continue  else:\n",
    "                            print(\"in folder \" +folder_title)\n",
    "                            pass\n",
    "\n",
    "                    else:\n",
    "                        print (\"in folder \" +folder_title)\n",
    "                        pass\n",
    "                        #continue\n",
    "                        return\n",
    "\n",
    "checkItems()"
   ]
  },
  {
   "cell_type": "code",
   "execution_count": null,
   "metadata": {},
   "outputs": [],
   "source": []
  }
 ],
 "metadata": {
  "kernelspec": {
   "display_name": "Python 3",
   "language": "python",
   "name": "python3"
  },
  "language_info": {
   "codemirror_mode": {
    "name": "ipython",
    "version": 3
   },
   "file_extension": ".py",
   "mimetype": "text/x-python",
   "name": "python",
   "nbconvert_exporter": "python",
   "pygments_lexer": "ipython3",
   "version": "3.6.6"
  }
 },
 "nbformat": 4,
 "nbformat_minor": 2
}
